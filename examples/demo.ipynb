{
 "cells": [
  {
   "cell_type": "code",
   "execution_count": 1,
   "metadata": {},
   "outputs": [],
   "source": [
    "import spacy\n",
    "import spacy_chunks"
   ]
  },
  {
   "cell_type": "code",
   "execution_count": 4,
   "metadata": {},
   "outputs": [
    {
     "name": "stdout",
     "output_type": "stream",
     "text": [
      "Chunks:\n",
      "Chunk 1: ['This is the first sentence.', 'This is the second one.']\n",
      "Chunk 2: ['This is the second one.', \"And here's the third.\"]\n",
      "Chunk 3: [\"And here's the third.\", 'The fourth is here.']\n",
      "Chunk 4: ['The fourth is here.', 'And a fifth.']\n",
      "\n",
      "Chunks (without truncation):\n",
      "Chunk 1: ['This is the first sentence.', 'This is the second one.']\n",
      "Chunk 2: ['This is the second one.', \"And here's the third.\"]\n",
      "Chunk 3: [\"And here's the third.\", 'The fourth is here.']\n",
      "Chunk 4: ['The fourth is here.', 'And a fifth.']\n",
      "Chunk 5: ['And a fifth.']\n"
     ]
    }
   ],
   "source": [
    "# Usage example\n",
    "nlp = spacy.load(\"en_core_web_sm\")\n",
    "nlp.add_pipe(\"spacy_chunks\", last=True, config={\"chunking_method\": \"sentence\", \"chunk_size\": 2, \"overlap\": 1, \"truncate\": True})\n",
    "\n",
    "text = \"This is the first sentence. This is the second one. And here's the third. The fourth is here. And a fifth.\"\n",
    "doc = nlp(text)\n",
    "\n",
    "print(\"Chunks:\")\n",
    "for i, chunk in enumerate(doc._.chunks, 1):\n",
    "    print(f\"Chunk {i}: {[sent.text for sent in chunk]}\")\n",
    "\n",
    "# Example with truncate set to False\n",
    "nlp.get_pipe(\"spacy_chunks\").truncate = False\n",
    "doc = nlp(text)\n",
    "\n",
    "print(\"\\nChunks (without truncation):\")\n",
    "for i, chunk in enumerate(doc._.chunks, 1):\n",
    "    print(f\"Chunk {i}: {[sent.text for sent in chunk]}\")"
   ]
  },
  {
   "cell_type": "code",
   "execution_count": null,
   "metadata": {},
   "outputs": [],
   "source": []
  }
 ],
 "metadata": {
  "kernelspec": {
   "display_name": "bow",
   "language": "python",
   "name": "python3"
  },
  "language_info": {
   "codemirror_mode": {
    "name": "ipython",
    "version": 3
   },
   "file_extension": ".py",
   "mimetype": "text/x-python",
   "name": "python",
   "nbconvert_exporter": "python",
   "pygments_lexer": "ipython3",
   "version": "3.10.14"
  }
 },
 "nbformat": 4,
 "nbformat_minor": 2
}
